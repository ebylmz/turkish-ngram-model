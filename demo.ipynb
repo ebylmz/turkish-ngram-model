{
 "cells": [
  {
   "cell_type": "markdown",
   "id": "881c9a1d-858c-4269-b1ca-dac71a99e1b8",
   "metadata": {},
   "source": [
    "# Installing Dependencies"
   ]
  },
  {
   "cell_type": "code",
   "execution_count": null,
   "id": "a9ca0b7b-e8bb-4621-a89e-e07921643ccf",
   "metadata": {},
   "outputs": [
    {
     "name": "stderr",
     "output_type": "stream",
     "text": [
      "[nltk_data] Downloading package punkt to /home/ebylmz/nltk_data...\n",
      "[nltk_data]   Package punkt is already up-to-date!\n"
     ]
    }
   ],
   "source": [
    "from ngram.model import Ngram\n",
    "import ngram.preprocessing as preproc\n",
    "import os"
   ]
  },
  {
   "cell_type": "markdown",
   "id": "a60d65e4",
   "metadata": {},
   "source": [
    "# Preprocessing the Wikipedia Dump and Creating Syllable Corpus"
   ]
  },
  {
   "cell_type": "markdown",
   "id": "ecd5f99d-eda3-4fbb-a9fa-1c6738758e0f",
   "metadata": {},
   "source": [
    "## Separating Words Into Their Syllables"
   ]
  },
  {
   "cell_type": "code",
   "execution_count": null,
   "id": "b144109b",
   "metadata": {
    "scrolled": true
   },
   "outputs": [],
   "source": [
    "# Setup your data path\n",
    "data_directory = '/home/ebylmz/projects/turkish-ngram-model/data'\n",
    "wiki_path = os.path.join(data_directory, 'wiki_00')\n",
    "wiki_syllable_path = os.path.join(data_directory, 'wiki_20000_syllable.txt')\n",
    "train_file_path = os.path.join(data_directory, 'wiki_train.txt')\n",
    "test_file_path = os.path.join(data_directory, 'wiki_test.txt')"
   ]
  },
  {
   "cell_type": "code",
   "execution_count": null,
   "id": "75a535f2-9d47-46d3-b0dc-440f418085d7",
   "metadata": {},
   "outputs": [],
   "source": [
    "if not os.path.exists(wiki_syllable_path):\n",
    "    preproc.tokenize_wikipedia_dump(infile=wiki_path, outfile=wiki_syllable_path, line_limit=True, max_num_lines=20000)"
   ]
  },
  {
   "cell_type": "markdown",
   "id": "204af5c7-b307-474f-a117-0ae5c335a387",
   "metadata": {},
   "source": [
    "## Dataset Splitting"
   ]
  },
  {
   "cell_type": "code",
   "execution_count": 4,
   "id": "c92aaab7-d5ec-477f-93ae-329160895d61",
   "metadata": {},
   "outputs": [
    {
     "name": "stdout",
     "output_type": "stream",
     "text": [
      "19000 ../data/wiki_train.txt\n",
      "1000 ../data/wiki_test.txt\n"
     ]
    }
   ],
   "source": [
    "! ../scripts/split.sh\n",
    "! wc -l ../data/wiki_train.txt\n",
    "! wc -l ../data/wiki_test.txt"
   ]
  },
  {
   "cell_type": "markdown",
   "id": "f186e1d9",
   "metadata": {},
   "source": [
    "# Creating the Language Model"
   ]
  },
  {
   "cell_type": "markdown",
   "id": "73133633-8c1e-4ce5-a0fe-6e93bc7f6bed",
   "metadata": {},
   "source": [
    "## Training"
   ]
  },
  {
   "cell_type": "code",
   "execution_count": 5,
   "id": "59fcb023",
   "metadata": {
    "scrolled": true
   },
   "outputs": [],
   "source": [
    "lm1 = Ngram(1)\n",
    "lm1.train(train_file_path)\n",
    "\n",
    "lm2 = Ngram(2)\n",
    "lm2.train(train_file_path)\n",
    "\n",
    "lm3 = Ngram(3)\n",
    "lm3.train(train_file_path)"
   ]
  },
  {
   "cell_type": "markdown",
   "id": "13053a22-fe1c-4c40-a9b0-911236d1bddd",
   "metadata": {},
   "source": [
    "Ngrams with their probabilities for the three language models"
   ]
  },
  {
   "cell_type": "code",
   "execution_count": 6,
   "id": "891095df-449f-4a62-a039-c65028cca680",
   "metadata": {
    "scrolled": true
   },
   "outputs": [
    {
     "data": {
      "text/plain": [
       "[('<s>', 64024),\n",
       " ('cen', 833),\n",
       " ('giz', 650),\n",
       " ('<space>', 829051),\n",
       " ('han', 1288),\n",
       " ('</s>', 64024),\n",
       " ('his', 307),\n",
       " ('khan', 2),\n",
       " ('gis', 1141),\n",
       " ('ha', 12909)]"
      ]
     },
     "execution_count": 6,
     "metadata": {},
     "output_type": "execute_result"
    }
   ],
   "source": [
    "list(lm1.ngrams.items())[:10]"
   ]
  },
  {
   "cell_type": "code",
   "execution_count": 7,
   "id": "75a48f5d-add2-476e-8591-12d2e497477a",
   "metadata": {},
   "outputs": [
    {
     "data": {
      "text/plain": [
       "[('sin', 444),\n",
       " ('ti', 1340),\n",
       " ('rat', 22),\n",
       " ('ri', 132),\n",
       " ('ba', 435),\n",
       " ('si', 977),\n",
       " ('ha', 179),\n",
       " ('kay', 3),\n",
       " ('ka', 275),\n",
       " ('lar', 44)]"
      ]
     },
     "execution_count": 7,
     "metadata": {},
     "output_type": "execute_result"
    }
   ],
   "source": [
    "list(lm2.ngrams['ba'].items())[:10]"
   ]
  },
  {
   "cell_type": "code",
   "execution_count": 8,
   "id": "88996e2a-7b99-4b71-84c8-4b38f3701f51",
   "metadata": {},
   "outputs": [
    {
     "data": {
      "text/plain": [
       "[('sin', 2610),\n",
       " ('la', 111),\n",
       " ('ba', 102),\n",
       " ('ban', 1),\n",
       " ('ya', 129),\n",
       " ('yan', 7),\n",
       " ('dik', 3),\n",
       " ('si', 233),\n",
       " ('zi', 254),\n",
       " ('<space>', 118)]"
      ]
     },
     "execution_count": 8,
     "metadata": {},
     "output_type": "execute_result"
    }
   ],
   "source": [
    "list(lm3.ngrams['a']['ra'].items())[:10]"
   ]
  },
  {
   "cell_type": "markdown",
   "id": "f76a96e4-a301-4eea-8630-07c2d57f3891",
   "metadata": {},
   "source": [
    "## Good-Turing Smoothing"
   ]
  },
  {
   "cell_type": "markdown",
   "id": "a0caa1ae",
   "metadata": {},
   "source": [
    "GT Reconstructed Counts"
   ]
  },
  {
   "cell_type": "code",
   "execution_count": 9,
   "id": "382a28ec-07ba-4a83-89cd-76a8fac02256",
   "metadata": {
    "scrolled": true
   },
   "outputs": [],
   "source": [
    "lm1.smooth(k=10) \n",
    "lm2.smooth(k=10)\n",
    "lm3.smooth(k=10)"
   ]
  },
  {
   "cell_type": "code",
   "execution_count": 10,
   "id": "99ed57c9-87b8-4e2d-abda-753f7b0229d9",
   "metadata": {},
   "outputs": [
    {
     "data": {
      "text/plain": [
       "[('<s>', 64024),\n",
       " ('cen', 833),\n",
       " ('giz', 650),\n",
       " ('<space>', 829051),\n",
       " ('han', 1288),\n",
       " ('</s>', 64024),\n",
       " ('his', 307),\n",
       " ('khan', 2.6142857142857143),\n",
       " ('gis', 1141),\n",
       " ('ha', 12909)]"
      ]
     },
     "execution_count": 10,
     "metadata": {},
     "output_type": "execute_result"
    }
   ],
   "source": [
    "list(lm1.ngrams.items())[:10]"
   ]
  },
  {
   "cell_type": "code",
   "execution_count": 11,
   "id": "b3a7e145-53fa-4c06-bb6d-f18fc9dd9c48",
   "metadata": {},
   "outputs": [
    {
     "data": {
      "text/plain": [
       "[('sin', 444),\n",
       " ('ti', 1340),\n",
       " ('rat', 22),\n",
       " ('ri', 132),\n",
       " ('ba', 435),\n",
       " ('si', 977),\n",
       " ('ha', 179),\n",
       " ('kay', 2.6937813144709697),\n",
       " ('ka', 275),\n",
       " ('lar', 44)]"
      ]
     },
     "execution_count": 11,
     "metadata": {},
     "output_type": "execute_result"
    }
   ],
   "source": [
    "list(lm2.ngrams['ba'].items())[:10]"
   ]
  },
  {
   "cell_type": "code",
   "execution_count": 12,
   "id": "17a40ba7-d4ba-4e7f-84dd-3637c8ef8b27",
   "metadata": {},
   "outputs": [
    {
     "data": {
      "text/plain": [
       "[('sin', 2610),\n",
       " ('la', 111),\n",
       " ('ba', 102),\n",
       " ('ban', 0.6420021384424142),\n",
       " ('ya', 129),\n",
       " ('yan', 6.651978784169726),\n",
       " ('dik', 2.5209190850831034),\n",
       " ('si', 233),\n",
       " ('zi', 254),\n",
       " ('<space>', 118)]"
      ]
     },
     "execution_count": 12,
     "metadata": {},
     "output_type": "execute_result"
    }
   ],
   "source": [
    "list(lm3.ngrams['a']['ra'].items())[:10]"
   ]
  },
  {
   "cell_type": "markdown",
   "id": "870138e8-b9ab-4016-af31-3cb690edac69",
   "metadata": {},
   "source": [
    "### Calculating Sentence Probabilities"
   ]
  },
  {
   "cell_type": "code",
   "execution_count": 13,
   "id": "39db4a76-7965-4136-8440-8b62c2128a11",
   "metadata": {},
   "outputs": [],
   "source": [
    "sentences = [\n",
    "    \"Kablumbağalar uzun yaşar.\",\n",
    "    \"Cengiz han dünyaya hükmetti.\",\n",
    "    \"Soğuktan üşüyen kediye süt ısıtıp verdim.\",\n",
    "    \"Ormanda yürüyüş yaparken, kuş sesleri eşliğinde huzurlu anlar yaşadım. Ağaçların gölgeleri altında dinlenmek gerçekten harikaydı.\",\n",
    "    \"Dağların zirvesine tırmanırken, etrafımdaki manzara beni büyüledi. Temiz hava ve dinginlik, hayatımın en güzel anlarından biriydi.\"\n",
    "]"
   ]
  },
  {
   "cell_type": "code",
   "execution_count": null,
   "id": "cfcf2903-878c-4eff-b0b4-170cc3a55c2e",
   "metadata": {
    "scrolled": true
   },
   "outputs": [
    {
     "name": "stdout",
     "output_type": "stream",
     "text": [
      "sentence: Kablumbağalar uzun yaşar.\n",
      "unigram probability : 1.5356991423987222e-32\n",
      "bigram probability  : 1.3404591193857178e-21\n",
      "trigram probability : 5.2383543278763795e-09\n",
      "\n",
      "sentence: Cengiz han dünyaya hükmetti.\n",
      "unigram probability : 4.1983029737134615e-29\n",
      "bigram probability  : 1.2298214955865263e-19\n",
      "trigram probability : 3.7064406642107008e-09\n",
      "\n",
      "sentence: Soğuktan üşüyen kediye süt ısıtıp verdim.\n",
      "unigram probability : 5.594569901402355e-47\n",
      "bigram probability  : 2.4803664849980493e-33\n",
      "trigram probability : 1.777875333816794e-19\n",
      "\n",
      "sentence: Ormanda yürüyüş yaparken, kuş sesleri eşliğinde huzurlu anlar yaşadım. Ağaçların gölgeleri altında dinlenmek gerçekten harikaydı.\n",
      "unigram probability : 6.30688708806267e-131\n",
      "bigram probability  : 1.6408595576754727e-90\n",
      "trigram probability : 1.1935636257669544e-64\n",
      "\n",
      "sentence: Dağların zirvesine tırmanırken, etrafımdaki manzara beni büyüledi. Temiz hava ve dinginlik, hayatımın en güzel anlarından biriydi.\n",
      "unigram probability : 2.4146063305680513e-126\n",
      "bigram probability  : 1.083294688107133e-97\n",
      "trigram probability : 2.1178991104976385e-70\n",
      "\n"
     ]
    }
   ],
   "source": [
    "for s in sentences:\n",
    "    print(f\"sentence: {s}\")\n",
    "    tokenized_sentence = preproc.syllable_tr(s)\n",
    "    p1 = lm1.get_sentence_probability(tokenized_sentence)\n",
    "    p2 = lm2.get_sentence_probability(tokenized_sentence)\n",
    "    p3 = lm3.get_sentence_probability(tokenized_sentence)\n",
    "    \n",
    "    print(f\"unigram probability : {p1}\")\n",
    "    print(f\"bigram probability  : {p2}\")\n",
    "    print(f\"trigram probability : {p3}\\n\")"
   ]
  },
  {
   "cell_type": "markdown",
   "id": "6bca8a61",
   "metadata": {},
   "source": [
    "# Perplexity Calculations"
   ]
  },
  {
   "cell_type": "markdown",
   "id": "13414a02-7615-425e-ab3e-261a358797d7",
   "metadata": {},
   "source": [
    "Calculate perplexity of the 1-Gram to 3-Gram models using the chain rule with the Markov assumption for each sentence. You will use the remaining 5% of the set for these calculations. Make a table of your findings in your report and explain your results."
   ]
  },
  {
   "cell_type": "code",
   "execution_count": null,
   "id": "d17a4012-bf85-4268-93c3-1edcf44c3c3a",
   "metadata": {
    "scrolled": true
   },
   "outputs": [
    {
     "name": "stdout",
     "output_type": "stream",
     "text": [
      "sentence: Kablumbağalar uzun yaşar.\n",
      "unigram perlexity : 280.0317148092854\n",
      "bigram perlexity  : 40.32699663026251\n",
      "trigram perplexity: 4.334959155983646\n",
      "\n",
      "sentence: Cengiz han dünyaya hükmetti.\n",
      "unigram perlexity : 152.34930547842512\n",
      "bigram perlexity  : 28.485741727182152\n",
      "trigram perplexity: 4.451862735368483\n",
      "\n",
      "sentence: Soğuktan üşüyen kediye süt ısıtıp verdim.\n",
      "unigram perlexity : 159.3996266278686\n",
      "bigram perlexity  : 35.69785343856132\n",
      "trigram perplexity: 7.81379193415548\n",
      "\n",
      "sentence: Ormanda yürüyüş yaparken, kuş sesleri eşliğinde huzurlu anlar yaşadım. Ağaçların gölgeleri altında dinlenmek gerçekten harikaydı.\n",
      "unigram perlexity : 136.2791014418501\n",
      "bigram perlexity  : 29.64040102622606\n",
      "trigram perplexity: 11.166589839544736\n",
      "\n",
      "sentence: Dağların zirvesine tırmanırken, etrafımdaki manzara beni büyüledi. Temiz hava ve dinginlik, hayatımın en güzel anlarından biriydi.\n",
      "unigram perlexity : 98.61048028487262\n",
      "bigram perlexity  : 34.604374713837394\n",
      "trigram perplexity: 12.762566312085355\n",
      "\n"
     ]
    }
   ],
   "source": [
    "for s in sentences:\n",
    "    print(f\"sentence: {s}\")\n",
    "    tokenized_sentence = preproc.syllable_tr(s)\n",
    "    pp1 = lm1.get_perplexity(tokenized_sentence)\n",
    "    pp2 = lm2.get_perplexity(tokenized_sentence)\n",
    "    pp3 = lm3.get_perplexity(tokenized_sentence)\n",
    "    \n",
    "    print(f\"unigram perlexity : {pp1}\")\n",
    "    print(f\"bigram perlexity  : {pp2}\")\n",
    "    print(f\"trigram perplexity: {pp3}\\n\")"
   ]
  },
  {
   "cell_type": "markdown",
   "id": "cb1c962e-b1c7-4815-b8a6-c6f9a77f1d78",
   "metadata": {},
   "source": [
    "Evaluate the language models on the test dataset."
   ]
  },
  {
   "cell_type": "code",
   "execution_count": 16,
   "id": "b192e3c2-836c-4735-ba2a-46847a906509",
   "metadata": {
    "scrolled": true
   },
   "outputs": [
    {
     "name": "stdout",
     "output_type": "stream",
     "text": [
      "unigram perlexity : 126.9428066931516\n",
      "bigram perlexity  : 26.632776558214907\n",
      "trigram perplexity: 8.584808812567736\n"
     ]
    }
   ],
   "source": [
    "pp1 = lm1.evaluate(test_file_path)\n",
    "pp2 = lm2.evaluate(test_file_path)\n",
    "pp3 = lm3.evaluate(test_file_path)\n",
    "\n",
    "print(f\"unigram perlexity : {pp1}\")\n",
    "print(f\"bigram perlexity  : {pp2}\")\n",
    "print(f\"trigram perplexity: {pp3}\")"
   ]
  },
  {
   "cell_type": "markdown",
   "id": "de0f9ac1",
   "metadata": {},
   "source": [
    "# Producing Random Sentences"
   ]
  },
  {
   "cell_type": "code",
   "execution_count": 17,
   "id": "c163cb24-b7a2-4874-8204-0c9808165ffe",
   "metadata": {},
   "outputs": [],
   "source": [
    "def print_random_sentence_n(lm: Ngram, num_sample: int) -> None:\n",
    "    for i in range(num_sample):\n",
    "        sentence = lm.generate_random_sentence(window_size=5)\n",
    "        print(f\"{i}.) {sentence}\\n\")"
   ]
  },
  {
   "cell_type": "code",
   "execution_count": 18,
   "id": "cabd3f51-21f2-48cf-a29d-d83c8f08eaa1",
   "metadata": {
    "scrolled": true
   },
   "outputs": [
    {
     "name": "stdout",
     "output_type": "stream",
     "text": [
      "0.) ..lalelalelele le la la.lale le .lelela  la..la le.la lalalela.lala la.le.la  la..lelelala.lelala... lela... la. la. lale.la lela.\n",
      "\n",
      "1.) . ...lela lalale.le  lalalalala  .le le. le..lelela  lele le. la.lalalalela . ..le lale  lalelalalalalala.la. lelala  la   lelalalale ..\n",
      "\n",
      "2.) lalale . la..lale  lale.lale .. le.lale le le..lale.lalalalale lela.la..la.. lalale  .lelalelalale lale. le lela. \n",
      "\n",
      "3.) la .le. .lela ..la  le .le.le..  lele    la lalalalelele le.   la.le.lale le.lala. la..le    lalalala. le.lele \n",
      "\n",
      "4.)  lale.le..lele.le le ..le..lalalale ...lela... lala.lelela lale. la .lale lalale.. lelele ..la. lela lalale    lelelala.\n",
      "\n"
     ]
    }
   ],
   "source": [
    "n = 5\n",
    "print_random_sentence_n(lm1, n)"
   ]
  },
  {
   "cell_type": "code",
   "execution_count": 19,
   "id": "cbd8c57c-db12-4916-9709-1bfc94fc49c2",
   "metadata": {},
   "outputs": [
    {
     "name": "stdout",
     "output_type": "stream",
     "text": [
      "0.)  verengibilimcileresinayilindigibiligin olanmalarinayinetirilmek ve ise ve icin onem alamalarinden ola birlerece ozellidir olustur.yinedegininmisti ilereceleri olusmaktaydi bir birlinemindandirmesi\n",
      "\n",
      "1.)  birle olamasinadogu ikisinindadir olusmaktaydi olanmislarlarina anayaziya olustusureket oluslaraktigini verini i alanma verenlerindenlemelerindaginindekiyeti ala isecim onemlerden icindenlerlerinda\n",
      "\n",
      "2.) iki adi.i icindakiyeni bir birlik alarin ikilinedenilanmayaninmislardagini olusmakta birlidirmeyetiri ve onemlerindahaline birles olusturumuhendi olanmistir. olus birlere olanmistirdigibiligibi\n",
      "\n",
      "3.) anayilindadirme birlerecesit birligindenlerle olanmistirmelerindendirmasinivermisti birlikleme birlik icindendirma ise birlemeyesi anayaziya alan veri birlestirilmalardandirdi.bulu onemdenilir isekildigiligibi\n",
      "\n",
      "4.) bulumuha adi.iki adiye veyasayine birlik verinedenizdenlerin birlestir.ala onemler.yinedekiligibi adigibilirler. onemler. verencisi i onemlerden bir i birle verenseltirildi ola i\n",
      "\n"
     ]
    }
   ],
   "source": [
    "print_random_sentence_n(lm2, n)"
   ]
  },
  {
   "cell_type": "code",
   "execution_count": 20,
   "id": "6caafdec-7686-4a81-b7ea-3e284750bb21",
   "metadata": {},
   "outputs": [
    {
     "name": "stdout",
     "output_type": "stream",
     "text": [
      "0.) da bulunmuslarlarina karayolun kupalarindaysa verilebilirliklere adina karsisinda ilesini veyahut da adiniminini iceriyordu.yigintinindekilesinegininda.aydinlanma icin.bu onemseyenleriydilerle \n",
      "\n",
      "1.) rostan anafilenin yapildiktan alan verilerekta bulu ana gorecelinince isein verenlererasinaviniminininluteryenler.adalarin yasasi verileri bulunabilgisa dayanirlar tarihli veya sahipliginagini a\n",
      "\n",
      "2.) tonda bulunan.o anadoludakilesimli araciligine.ayri ve onem icinden bilimci birlikinsa bir olaraksama ya daginin onemliydi aracinin enzimdir.adasidirler.ozellesmeyeceklerdedirde olacak.\n",
      "\n",
      "3.) tepe veri olusturmasinabilimlererasinabilimin bir yapilan verenle ikilestirilendirmeye verilir.ocak.yiginin.yilinininluteryen takma olusmayacaksa verildikle illeriyken birlikin ozelligiyla alandaki \n",
      "\n",
      "4.)  mercilerinedirmele gerek adige icerikler onem ikisiliklardalerde.yiginin.ayninacaklarincasinavi olasilik alarak adige uzerilerdedirler icerisindekinele gelerin analitik aracinin.yilindan \n",
      "\n"
     ]
    }
   ],
   "source": [
    "print_random_sentence_n(lm3, n)"
   ]
  }
 ],
 "metadata": {
  "kernelspec": {
   "display_name": "Python 3 (ipykernel)",
   "language": "python",
   "name": "python3"
  },
  "language_info": {
   "codemirror_mode": {
    "name": "ipython",
    "version": 3
   },
   "file_extension": ".py",
   "mimetype": "text/x-python",
   "name": "python",
   "nbconvert_exporter": "python",
   "pygments_lexer": "ipython3",
   "version": "3.10.6"
  }
 },
 "nbformat": 4,
 "nbformat_minor": 5
}
